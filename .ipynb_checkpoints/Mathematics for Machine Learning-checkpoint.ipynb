{
 "cells": [
  {
   "cell_type": "markdown",
   "metadata": {},
   "source": [
    "An exercise in numpy and scipy"
   ]
  },
  {
   "cell_type": "markdown",
   "metadata": {},
   "source": [
    "https://mml-book.github.io/book/mml-book.pdf"
   ]
  },
  {
   "cell_type": "code",
   "execution_count": 2,
   "metadata": {
    "collapsed": false
   },
   "outputs": [],
   "source": [
    "import numpy as np"
   ]
  },
  {
   "cell_type": "markdown",
   "metadata": {},
   "source": [
    "# Linear Algebra"
   ]
  },
  {
   "cell_type": "markdown",
   "metadata": {},
   "source": [
    "$N_1 .. N_n$ Products\n",
    "$R_1 .. R_m$ Resources required\n",
    "$X_1 .. X_n$ Production plan\n",
    "$B_1 .. B_m$ Resources available"
   ]
  },
  {
   "cell_type": "code",
   "execution_count": 3,
   "metadata": {
    "collapsed": false
   },
   "outputs": [
    {
     "data": {
      "text/plain": [
       "array([ 2.,  3.,  2.])"
      ]
     },
     "execution_count": 3,
     "metadata": {},
     "output_type": "execute_result"
    }
   ],
   "source": [
    "n, m = 3, 4\n",
    "# create an MxN matrix\n",
    "#C = np.ndarray((m, n))\n",
    "C = np.array([[0, 1, 0,],\n",
    "              [1, 0, 0,],\n",
    "              [0, 0, 1,],\n",
    "              [0, 1, 0]], dtype=np.uint8)\n",
    "#C = np.ndarray(shape=(4,3), dtype=np.uint8, buffer=costs)\n",
    "# given available resources, find a production plan (number of units to produce per product)\n",
    "# i.e. solve Cx = b for x\n",
    "b = np.array([3, 2, 2, 3])\n",
    "(x, sum_of_residuals, rank, singular_values) = np.linalg.lstsq(C, b)\n",
    "x"
   ]
  },
  {
   "cell_type": "code",
   "execution_count": 4,
   "metadata": {
    "collapsed": false
   },
   "outputs": [],
   "source": [
    "def det(A):\n",
    "    \"\"\"Calculate determinant of a square matrix by Laplace expansion. O(n!)\n",
    "    \n",
    "    :param A: 2D ndarray of square shape\n",
    "    :raises TypeError:\n",
    "    :return: The determinant of A\n",
    "    \"\"\"\n",
    "    def alternating_series(arr):\n",
    "        i, s = 1, 0\n",
    "        for a in arr:\n",
    "            s += a*i\n",
    "            i *= -1\n",
    "        return s\n",
    "    def cofactors():\n",
    "        \"\"\"Return cofactors (first minor determinants) of first row.\"\"\"\n",
    "        B = A[1:,:]\n",
    "        return [det(np.hstack((B[:,:j], B[:,j+1:]))) for j in range(B.shape[1] - 1)]\n",
    "            \n",
    "    if type(A) is not np.ndarray:\n",
    "        raise TypeError('A must be ndarray')\n",
    "    if len(A.shape) != 2 or A.shape[0] != A.shape[1]:\n",
    "        raise TypeError('A must be a 2D square')\n",
    "    if A.shape == (2, 2):\n",
    "        return A[0,0]*A[1,1] - A[0,1]*A[1,0]\n",
    "    else:\n",
    "        return alternating_series(cofactors())"
   ]
  },
  {
   "cell_type": "code",
   "execution_count": 182,
   "metadata": {
    "collapsed": false
   },
   "outputs": [],
   "source": [
    "def is_reduced(A, row=False):\n",
    "    \"\"\"Return if A is in reduced or row-reduced echelon form.\n",
    "    Reduced: All zero rows are at bottom of matrix & pivot is to right of pivots above.\n",
    "    Row-reduced: reduced, pivots are 1, and pivots are only non-zero element in column.\n",
    "    \"\"\"\n",
    "    if type(A) is not np.ndarray:\n",
    "        raise TypeError(\"A must be ndarray\")\n",
    "        \n",
    "    zr = [not any(row) for row in A]\n",
    "    # take difference of adjacent indices. diff is 1 if indices are consecutive.\n",
    "    zr_indices = np.where(zr)[0] # generate indices of zero rows\n",
    "    shiftzr = np.hstack((zr_indices[1:], [A.shape[1]])) # add len to check last row is a zero row\n",
    "    # check zero rows are all at bottom and is upper-triangular\n",
    "    reduced = sum(shiftzr - zr_indices) == len(zr_indices) and all(i <= j for [i, j] in np.argwhere(A)) \n",
    "    \n",
    "    if not row or not reduced:\n",
    "        return reduced\n",
    "    # is reduced, check pivots\n",
    "    nzr = np.logical_not(zr)\n",
    "    pivot_columns = [np.where(row)[0][0] for row in A[nzr, :]]\n",
    "    # pivots are 1\n",
    "    if any(A[i,j] != 1 for (i, j) in zip(range(len(nzr)), pivot_columns)):\n",
    "        return False\n",
    "    # pivots are sole non-zero element (columns are standard bases)\n",
    "    return all([sum(A[:, j]) == 1 for j in pivot_columns])\n",
    "\n",
    "def is_row_reduced(A):\n",
    "    return is_reduced(A, row=True)"
   ]
  }
 ],
 "metadata": {
  "kernelspec": {
   "display_name": "Python 3",
   "language": "python",
   "name": "python3"
  },
  "language_info": {
   "codemirror_mode": {
    "name": "ipython",
    "version": 3
   },
   "file_extension": ".py",
   "mimetype": "text/x-python",
   "name": "python",
   "nbconvert_exporter": "python",
   "pygments_lexer": "ipython3",
   "version": "3.6.0"
  }
 },
 "nbformat": 4,
 "nbformat_minor": 0
}
