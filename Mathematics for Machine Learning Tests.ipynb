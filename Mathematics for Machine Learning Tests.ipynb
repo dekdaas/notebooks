{
 "cells": [
  {
   "cell_type": "markdown",
   "metadata": {},
   "source": [
    "Tests for exercies in numpy and scipy"
   ]
  },
  {
   "cell_type": "code",
   "execution_count": 2,
   "metadata": {
    "collapsed": false,
    "scrolled": true
   },
   "outputs": [
    {
     "name": "stdout",
     "output_type": "stream",
     "text": [
      "True\n",
      "True\n"
     ]
    }
   ],
   "source": [
    "%run \"Mathematics for Machine Learning.ipynb\""
   ]
  },
  {
   "cell_type": "code",
   "execution_count": null,
   "metadata": {
    "collapsed": true
   },
   "outputs": [],
   "source": [
    "A = np.array([[1, 1, 0],\n",
    "              [0, 1, 0],\n",
    "              [-2, 0, 5]])\n",
    "assert(det(A) == 5)"
   ]
  },
  {
   "cell_type": "code",
   "execution_count": null,
   "metadata": {
    "collapsed": true
   },
   "outputs": [],
   "source": [
    "B = np.array([[1, 0, 0, 0],\n",
    "              [0, 2, 0, 0],\n",
    "              [0, 0, 3, 0],\n",
    "              [0, 0, 0, 4]]) # diagonal\n",
    "C = B + np.array([[0, 0, 0, 10],\n",
    "                  [0, 0, 0, 0],\n",
    "                  [0, 0, 0, 0],\n",
    "                  [0, 0, 0, 0]]) # upper-triangular\n",
    "D = B + np.array([[0, 0, 0, 0],\n",
    "                  [0, 0, 0, 0],\n",
    "                  [0, 0, 0, 0],\n",
    "                  [10, 0, 0, 0]]) # lower-triangular\n",
    "E = B + np.array([[-1, 0, 0, 0],\n",
    "                  [0, 0, 0, 0],\n",
    "                  [0, 0, 0, 0],\n",
    "                  [0, 0, 0, 0]]) # zero-row is first\n",
    "F = B + np.array([[0, 0, 0, 0],\n",
    "                  [0, 0, 0, 0],\n",
    "                  [0, 0, -3, 0],\n",
    "                  [0, 0, 0, -4]]) # zero-rows are last\n",
    "G = B + np.array([[0, 1, 0, 0],\n",
    "                  [0, -1, 0, 0],\n",
    "                  [0, 0, -2, 0],\n",
    "                  [0, 0, 0, -3]]) # non standard bases\n",
    "H = F + np.array([[0, 0, 0, 0],\n",
    "                  [0, -1, 0, 0],\n",
    "                  [0, 0, 0, 0],\n",
    "                  [0, 0, 0, 0]]) # standard bases\n",
    "\n",
    "assert(list(map(is_reduced, [B, C, D, E, F, G, H])) == [True, True, False, False, True, True, True])\n",
    "assert(list(map(is_row_reduced, [F, G, H])) == [False, False, True])"
   ]
  }
 ],
 "metadata": {
  "kernelspec": {
   "display_name": "Python 3",
   "language": "python",
   "name": "python3"
  },
  "language_info": {
   "codemirror_mode": {
    "name": "ipython",
    "version": 3
   },
   "file_extension": ".py",
   "mimetype": "text/x-python",
   "name": "python",
   "nbconvert_exporter": "python",
   "pygments_lexer": "ipython3",
   "version": "3.6.0"
  }
 },
 "nbformat": 4,
 "nbformat_minor": 0
}
