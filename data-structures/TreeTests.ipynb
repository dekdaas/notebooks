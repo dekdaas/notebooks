{
 "cells": [
  {
   "cell_type": "code",
   "execution_count": 7,
   "metadata": {
    "collapsed": true
   },
   "outputs": [],
   "source": [
    "%run Trees.ipynb\n",
    "import doctest\n",
    "test_results = {}"
   ]
  },
  {
   "cell_type": "markdown",
   "metadata": {},
   "source": [
    "### Node_BNode tests"
   ]
  },
  {
   "cell_type": "code",
   "execution_count": 8,
   "metadata": {
    "collapsed": false
   },
   "outputs": [],
   "source": [
    "__test__ = {\"BNode.__init__\" : \"\"\"\n",
    "                                >>> n = BNode(3)\n",
    "                                >>> n.val\n",
    "                                3\n",
    "                                >>> m = BNode(2, BNode(1), n)\n",
    "                                >>> [m, m.left, m.right] == [2, 1, 3]\n",
    "                                True\n",
    "                                >>> m == BNode(2)\n",
    "                                True\n",
    "                                >>> m < BNode(3)\n",
    "                                True\n",
    "                                >>> m != BNode(1)\n",
    "                                True\n",
    "                               \"\"\",\n",
    "            \"Node_BTree.__init__\" : \"\"\"\n",
    "                                     >>> vals = 1\n",
    "                                     >>> tree = Node_BTree(vals)\n",
    "                                     >>> tree.root.val\n",
    "                                     1\n",
    "                                     >>> vals = [1, 4, 3, 2, 5, 6]\n",
    "                                     >>> tree = Node_BTree(vals)\n",
    "                                     >>> [tree.root, tree.root.left, tree.root.left.left, tree.root.left.right] == [4, 2, 1, 3]\n",
    "                                     True\n",
    "                                     >>> [tree.root.right, tree.root.right.left, tree.root.right.right] == [6, 5, None]\n",
    "                                     True\n",
    "                                    \"\"\",\n",
    "            \"remove\" : \"\"\"                            \n",
    "                        >>> vals = [3, 2, 1, 4, 5, 6] # same doctest setup as __init__\n",
    "                        >>> tree = Node_BTree(vals)\n",
    "                        >>> tree.remove(7) # remove non-existent value\n",
    "                        >>> [tree.root, tree.root.left, tree.root.left.left, tree.root.left.right] == [4, 2, 1, 3]\n",
    "                        True\n",
    "                        >>> [tree.root.right, tree.root.right.left, tree.root.right.right] == [6, 5, None]\n",
    "                        True\n",
    "                        >>> tree.remove(5) # remove leaf\n",
    "                        >>> [tree.root, tree.root.left, tree.root.left.left, tree.root.left.right] == [4, 2, 1, 3]\n",
    "                        True\n",
    "                        >>> [tree.root.right, tree.root.right.left, tree.root.right.right] == [6, None, None]\n",
    "                        True\n",
    "                        >>> tree.remove(2) # remove inner node\n",
    "                        >>> [tree.root, tree.root.left, tree.root.left.left, tree.root.left.right] == [4, 3, 1, None]\n",
    "                        True\n",
    "                        >>> tree.remove(4) # remove root\n",
    "                        >>> [tree.root, tree.root.left, tree.root.left.left, tree.root.left.right, tree.root.right] == [6, 3, 1, None, None]\n",
    "                        True\n",
    "                       \"\"\",\n",
    "            \"find\" : \"\"\"        \n",
    "                      >>> vals = [3, 2, 1, 4, 6, 5] # same doctest setup as __init__\n",
    "                      >>> tree = Node_BTree(vals)\n",
    "                      >>> root = tree.find(4) # find root\n",
    "                      >>> [root, root.left, root.right] == [4, 2, 6]\n",
    "                      True\n",
    "                      >>> inner = tree.find(2) # find inner node\n",
    "                      >>> [inner, inner.left, inner.right] == [2, 1, 3]\n",
    "                      True\n",
    "                      >>> leaf = tree.find(5) # find leaf node\n",
    "                      >>> tree._is_leaf(leaf)\n",
    "                      True\n",
    "                     \"\"\",\n",
    "            \"_find_node_and_parent\" : \"\"\"        \n",
    "                                       >>> vals = [3, 2, 1, 4, 6, 5] # same doctest setup as __init__\n",
    "                                       >>> tree = Node_BTree(vals)\n",
    "                                       >>> n, p = tree._find_node_and_parent(4) # find root\n",
    "                                       >>> [n, n.left, n.right, p] == [4, 2, 6, None]\n",
    "                                       True\n",
    "                                       >>> n, p = tree._find_node_and_parent(2) # find inner node\n",
    "                                       >>> [n, n.left, n.right, p, p.left, p.right] == [2, 1, 3, 4, 2, 6]\n",
    "                                       True\n",
    "                                       >>> leaf, p = tree._find_node_and_parent(5) # find leaf node\n",
    "                                       >>> tree._is_leaf(leaf) and [p, p.left, p.right] == [6, leaf, None]\n",
    "                                       True\n",
    "                                      \"\"\",\n",
    "            \"_BTree_from_list\" : \"\"\"\n",
    "                                  >>> vals = [1, 2, 3]\n",
    "                                  >>> root = Node_BTree(vals).root\n",
    "                                  >>> [root, root.left, root.right] == [2, 1, 3]\n",
    "                                  True\n",
    "                                  >>> vals += [4]\n",
    "                                  >>> root = Node_BTree(vals).root\n",
    "                                  >>> [root, root.left, root.left.left, root.right] == [3, 2, 1, 4]\n",
    "                                  True\n",
    "                                 \"\"\",      \n",
    "             }\n",
    "test_results['Node_BTree'] = doctest.testmod()"
   ]
  },
  {
   "cell_type": "code",
   "execution_count": 9,
   "metadata": {
    "collapsed": false
   },
   "outputs": [
    {
     "data": {
      "text/plain": [
       "{'Node_BTree': TestResults(failed=0, attempted=48)}"
      ]
     },
     "execution_count": 9,
     "metadata": {},
     "output_type": "execute_result"
    }
   ],
   "source": [
    "test_results"
   ]
  }
 ],
 "metadata": {
  "kernelspec": {
   "display_name": "Python 3",
   "language": "python",
   "name": "python3"
  },
  "language_info": {
   "codemirror_mode": {
    "name": "ipython",
    "version": 3
   },
   "file_extension": ".py",
   "mimetype": "text/x-python",
   "name": "python",
   "nbconvert_exporter": "python",
   "pygments_lexer": "ipython3",
   "version": "3.6.0"
  }
 },
 "nbformat": 4,
 "nbformat_minor": 0
}
