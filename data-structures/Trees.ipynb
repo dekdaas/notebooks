{
 "cells": [
  {
   "cell_type": "markdown",
   "metadata": {},
   "source": [
    "# Trees\n",
    "## Binary Tree\n",
    "### Node based"
   ]
  },
  {
   "cell_type": "code",
   "execution_count": 2,
   "metadata": {
    "collapsed": false
   },
   "outputs": [],
   "source": [
    "class BNode:\n",
    "    def __init__(self, val, left=None, right=None):\n",
    "        \"\"\"A binary node w/ comparison capabilities against raw data types\n",
    "        :param left: BNode\n",
    "        :param right: BNode\n",
    "        \"\"\"\n",
    "        self.left, self.right = left, right\n",
    "        self.val = val\n",
    "    def __str__(self):\n",
    "        return \"{} [{} {}]\".format(self.val, str(self.left), str(self.right))\n",
    "    def __eq__(self, other):\n",
    "        return self.val == other.val if type(other) is BNode else self.val == other\n",
    "    def __ne__(self, other):\n",
    "        return self.val != other.val if type(other) is BNode else self.val != other\n",
    "    def __le__(self, other):\n",
    "        return self.val <= other.val if type(other) is BNode else self.val <= other\n",
    "    def __ge__(self, other):\n",
    "        return self.val >= other.val if type(other) is BNode else self.val >= other\n",
    "    def __lt__(self, other):\n",
    "        return self.val < other.val if type(other) is BNode else self.val < other\n",
    "    def __gt__(self, other):\n",
    "        return self.val > other.val if type(other) is BNode else self.val > other\n",
    "    \n",
    "class Node_BTree:\n",
    "    def __init__(self, vals):\n",
    "        \"\"\"A single-typed sorted binary tree with distinct values.\n",
    "        :param val: Single value or single-typed list of values\n",
    "        :raise ValueError: List is not single-typed\n",
    "        \"\"\"\n",
    "        if type(vals) is list:\n",
    "            if len(vals) > 0:\n",
    "                dtype = type(vals[0])\n",
    "                if all([type(val) is dtype for val in vals]):\n",
    "                    # vals is single-typed\n",
    "                    vals.sort()\n",
    "                    self.root = self._BTree_from_list(vals)\n",
    "                else:\n",
    "                    raise ValueError(\"Argument list must be single-typed.\")\n",
    "            else:\n",
    "                raise ValueError(\"Argument list must be non-empty.\")\n",
    "        else:\n",
    "            dtype = type(vals)\n",
    "            self.root = BNode(vals)\n",
    "        self._dtype = dtype\n",
    "    \n",
    "    def __str__(self):\n",
    "        # NOT in-order traversal\n",
    "        return str(self.root)\n",
    "    \n",
    "    def insert(self, val):\n",
    "        \"\"\"Add a node to the tree\n",
    "        :param val: BNode or data value to add\n",
    "        :raises TypeError: Argument value (contained value if Node type) is different than that of others in tree\n",
    "        \"\"\"\n",
    "        if type(val) is self._dtype or \\\n",
    "           (type(val) is BNode and type(val.val) is self._dtype):\n",
    "            n, p = self._find_node_and_parent(val)\n",
    "            if n is not None: pass # tree already contains val, do nothing; no duplicate values\n",
    "            elif p < val and t.right is None:\n",
    "                t.right = val if type(val) is BNode else BNode(val)\n",
    "            elif t.left is None:\n",
    "                t.left = val if type(val) is BNode else BNode(val)\n",
    "        else:\n",
    "            raise TypeError(\"Argument value is not type {}\".format(self._dtype))\n",
    "            \n",
    "    def remove(self, val):\n",
    "        \"\"\"Remove the node containing val from the tree.\n",
    "        :param val: Value with same type as values already in tree\n",
    "        \"\"\"\n",
    "        def _prune(child, parent):\n",
    "            \"\"\"Remove child from parent.\"\"\"\n",
    "            if child is parent.left:\n",
    "                parent.left = None\n",
    "            else:\n",
    "                parent.right = None\n",
    "        def _pluck_left_leaf(ln, t):\n",
    "            \"\"\"Find, prune, and return the largest smaller leaf of node.\"\"\"\n",
    "            while not self._is_leaf(ln):\n",
    "                ln, t = ln.right if ln.right is not None else ln.left, ln\n",
    "                _prune(ln, t)\n",
    "            return ln\n",
    "        def _pluck_right_leaf(ln, t):\n",
    "            \"\"\"Find, prune, and return the smallest larger leaf of node.\"\"\"\n",
    "            while not self._is_leaf(ln):\n",
    "                ln, t = ln.left if ln.left is not None else ln.right, ln\n",
    "                _prune(ln, t)\n",
    "                \n",
    "        n, p = self._find_node_and_parent(val)\n",
    "        if n is None: return # tree does not contain val\n",
    "        # replace node to be removed with leaf\n",
    "        ln, t = n, None # leaf node, trailing pointer\n",
    "        if p is None: # n is root\n",
    "            if n.left is not None:\n",
    "                # splice in largest value in left sub-tree\n",
    "                ln = _pluck_left_leaf(ln, t)                \n",
    "                ln.left, ln.right = n.left, n.right\n",
    "                self.root = ln\n",
    "            elif n.right is not None:\n",
    "                # splice in smallest value in right sub-tree\n",
    "                ln = _pluck_right_leaf(ln, t)\n",
    "                ln.left, ln.right = n.left, n.right\n",
    "                self.root = ln\n",
    "            else: # n is a leaf\n",
    "                self.root = None\n",
    "                del(self) # tree must be non-empty\n",
    "        elif n < p: \n",
    "            if self._is_leaf(n): \n",
    "                p.left = None\n",
    "            else:\n",
    "                # splice in largest value in left sub-tree\n",
    "                ln = _pluck_left_leaf(ln, t)\n",
    "                ln.left, ln.right = n.left, n.right\n",
    "                p.left = ln\n",
    "        else: \n",
    "            if self._is_leaf(n): \n",
    "                p.right = None\n",
    "            else:\n",
    "                # splice in smallest value in right sub-tree\n",
    "                ln = _pluck_left_leaf(ln, t)\n",
    "                ln.left, ln.right = n.left, n.right \n",
    "                p.right = ln  \n",
    "                \n",
    "    def find(self, val):\n",
    "        \"\"\"Return node containing arguement value\n",
    "        :return: BNode or None\n",
    "        \"\"\"\n",
    "        n, _ = self._find_node_and_parent(val)\n",
    "        return n\n",
    "    \n",
    "    def _find_node_and_parent(self, val):\n",
    "        \"\"\"Return node containing value and its parent. \n",
    "        If tree does not contain value, first return value is None; \n",
    "        second value is Node w/ a null left/right that is a viable parent. \n",
    "        :param val: value to find parent node of\n",
    "        :return: BNode containing value or None, and a BNode \n",
    "                 whose left or right attribute is or would be the BNode of val\n",
    "        \"\"\"\n",
    "        # walk btree with a trailing pointer to track potential parent\n",
    "        n, t = self.root, None\n",
    "        while n is not None:\n",
    "            # walk until p points to BNode containing val or a non-existent leaf\n",
    "            # then t will point at parent\n",
    "            if n == val: break\n",
    "            t = n\n",
    "            if n < val: n = n.right\n",
    "            else: n = n.left\n",
    "        return n, t\n",
    "        \n",
    "    def _BTree_from_list(self, vals:list):\n",
    "        \"\"\"Build BTree from a flat ordered single-typed list.\n",
    "        :param vals: single-typed list\n",
    "        :return: Root BNode\n",
    "        \"\"\"\n",
    "        if len(vals) == 0:\n",
    "            return None\n",
    "        if len(vals) == 1:\n",
    "            return BNode(vals[0])\n",
    "        mid = len(vals) // 2\n",
    "        return BNode(vals[mid], \n",
    "                     self._BTree_from_list(vals[:mid]), \n",
    "                     self._BTree_from_list(vals[mid + 1:])) \n",
    "        \n",
    "        \n",
    "    def _is_leaf(self, node:BNode):\n",
    "        if node is None:\n",
    "            raise TypeError(\"Argument node must be non-null.\")\n",
    "        return node.left is None and node.right is None"
   ]
  },
  {
   "cell_type": "markdown",
   "metadata": {},
   "source": [
    "### List based"
   ]
  },
  {
   "cell_type": "markdown",
   "metadata": {},
   "source": [
    "## AVL Trees\n",
    "Self-balancing binary tree, "
   ]
  },
  {
   "cell_type": "code",
   "execution_count": null,
   "metadata": {
    "collapsed": true
   },
   "outputs": [],
   "source": []
  },
  {
   "cell_type": "markdown",
   "metadata": {},
   "source": [
    "## Red-black tree"
   ]
  },
  {
   "cell_type": "markdown",
   "metadata": {},
   "source": [
    "## Quad-tree"
   ]
  },
  {
   "cell_type": "markdown",
   "metadata": {},
   "source": [
    "## Interval tree"
   ]
  },
  {
   "cell_type": "markdown",
   "metadata": {},
   "source": [
    "### 2-d interval tree"
   ]
  },
  {
   "cell_type": "markdown",
   "metadata": {},
   "source": [
    "## k-d tree"
   ]
  },
  {
   "cell_type": "code",
   "execution_count": null,
   "metadata": {
    "collapsed": true
   },
   "outputs": [],
   "source": []
  }
 ],
 "metadata": {
  "kernelspec": {
   "display_name": "Python 3",
   "language": "python",
   "name": "python3"
  },
  "language_info": {
   "codemirror_mode": {
    "name": "ipython",
    "version": 3
   },
   "file_extension": ".py",
   "mimetype": "text/x-python",
   "name": "python",
   "nbconvert_exporter": "python",
   "pygments_lexer": "ipython3",
   "version": "3.6.0"
  }
 },
 "nbformat": 4,
 "nbformat_minor": 0
}
